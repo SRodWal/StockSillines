{
 "cells": [
  {
   "cell_type": "code",
   "execution_count": 8,
   "metadata": {},
   "outputs": [],
   "source": [
    "## Loads libraries\n",
    "\n",
    "import pandas as pd\n",
    "import numpy as np\n",
    "import yfinance as yf\n",
    "import pandas_datareader as pdr\n",
    "import datetime as dt"
   ]
  },
  {
   "cell_type": "code",
   "execution_count": 9,
   "metadata": {},
   "outputs": [],
   "source": [
    "## List of Stonks \n",
    "\n",
    "stonkList = ['AMZN','NIO','TSLA','ICLN','MSFT','MU','TSM','BABA','BYND'] +\\\n",
    "           ['TAN','NVDA','SQ','AMD','INTC','JNJ','ETSY','DAL','AAPL'] +\\\n",
    "            ['F','VWAGY','DIS']"
   ]
  },
  {
   "cell_type": "code",
   "execution_count": 10,
   "metadata": {},
   "outputs": [],
   "source": [
    "# Defines the start date\n",
    "startyear = 2019\n",
    "startmonth = 1 \n",
    "startday = 1\n",
    "start = dt.datetime(startyear, startmonth, startday)"
   ]
  },
  {
   "cell_type": "code",
   "execution_count": 11,
   "metadata": {},
   "outputs": [],
   "source": [
    "# Defines end date\n",
    "endyear = 2021\n",
    "endmonth = 5 \n",
    "endday = 21\n",
    "end = dt.datetime(endyear,endmonth,endday)\n"
   ]
  },
  {
   "cell_type": "code",
   "execution_count": 12,
   "metadata": {},
   "outputs": [
    {
     "name": "stdout",
     "output_type": "stream",
     "text": [
      "From 2019-01-01 00:00:00 , to  2021-05-21 00:00:00 , AMZN changed 108.1097807178984 %\n",
      "From 2019-01-01 00:00:00 , to  2021-05-21 00:00:00 , NIO changed 449.3548777597144 %\n",
      "From 2019-01-01 00:00:00 , to  2021-05-21 00:00:00 , TSLA changed 836.5407280632606 %\n",
      "From 2019-01-01 00:00:00 , to  2021-05-21 00:00:00 , ICLN changed 177.1314015435045 %\n",
      "From 2019-01-01 00:00:00 , to  2021-05-21 00:00:00 , MSFT changed 149.7940622326474 %\n",
      "From 2019-01-01 00:00:00 , to  2021-05-21 00:00:00 , MU changed 146.47328617008588 %\n",
      "From 2019-01-01 00:00:00 , to  2021-05-21 00:00:00 , TSM changed 230.5455237847008 %\n",
      "From 2019-01-01 00:00:00 , to  2021-05-21 00:00:00 , BABA changed 54.396490322165846 %\n",
      "From 2019-01-01 00:00:00 , to  2021-05-21 00:00:00 , BYND changed 62.11406287131654 %\n",
      "From 2019-01-01 00:00:00 , to  2021-05-21 00:00:00 , TAN changed 319.47362505004975 %\n",
      "From 2019-01-01 00:00:00 , to  2021-05-21 00:00:00 , NVDA changed 342.82297254540686 %\n",
      "From 2019-01-01 00:00:00 , to  2021-05-21 00:00:00 , SQ changed 249.66781790049336 %\n",
      "From 2019-01-01 00:00:00 , to  2021-05-21 00:00:00 , AMD changed 309.82473967932435 %\n",
      "From 2019-01-01 00:00:00 , to  2021-05-21 00:00:00 , INTC changed 26.658667916966706 %\n",
      "From 2019-01-01 00:00:00 , to  2021-05-21 00:00:00 , JNJ changed 42.21828865119627 %\n",
      "From 2019-01-01 00:00:00 , to  2021-05-21 00:00:00 , ETSY changed 256.510633103391 %\n",
      "From 2019-01-01 00:00:00 , to  2021-05-21 00:00:00 , DAL changed -6.650487123092893 %\n",
      "From 2019-01-01 00:00:00 , to  2021-05-21 00:00:00 , AAPL changed 226.30297518663264 %\n",
      "From 2019-01-01 00:00:00 , to  2021-05-21 00:00:00 , F changed 86.2375832888309 %\n",
      "From 2019-01-01 00:00:00 , to  2021-05-21 00:00:00 , VWAGY changed 131.2262983790436 %\n",
      "From 2019-01-01 00:00:00 , to  2021-05-21 00:00:00 , DIS changed 60.142163939259284 %\n"
     ]
    }
   ],
   "source": [
    "## Calculates the percentage change from end with respect to start\n",
    "\n",
    "for ticker in stonkList:\n",
    "    # Gets the data from Yahoo finances\n",
    "    df = pdr.get_data_yahoo(ticker, start, end)\n",
    "\n",
    "    #Calculates the performance of the ticker\n",
    "    iniPrc = df['Adj Close'][0] \n",
    "    endPrc = df['Adj Close'][-1]\n",
    "    indPer = ((df['Adj Close'][-1] - df['Adj Close'][0] ) / df['Adj Close'][0] )\n",
    "\n",
    "    #Prints the performance\n",
    "    print('From', start,', to ', end,',', ticker, 'changed', indPer*100, '%' )"
   ]
  },
  {
   "cell_type": "code",
   "execution_count": null,
   "metadata": {},
   "outputs": [],
   "source": []
  }
 ],
 "metadata": {
  "kernelspec": {
   "display_name": "Python 3",
   "language": "python",
   "name": "python3"
  },
  "language_info": {
   "codemirror_mode": {
    "name": "ipython",
    "version": 3
   },
   "file_extension": ".py",
   "mimetype": "text/x-python",
   "name": "python",
   "nbconvert_exporter": "python",
   "pygments_lexer": "ipython3",
   "version": "3.8.5"
  }
 },
 "nbformat": 4,
 "nbformat_minor": 4
}
